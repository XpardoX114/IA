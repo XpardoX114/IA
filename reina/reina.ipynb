{
 "cells": [
  {
   "cell_type": "code",
   "execution_count": 2,
   "metadata": {},
   "outputs": [],
   "source": [
    "import random"
   ]
  },
  {
   "cell_type": "code",
   "execution_count": 70,
   "metadata": {},
   "outputs": [],
   "source": [
    "# INCIALIZAMOS: Generamos la poblacion inicial\n",
    "\n",
    "def initialization(num):\n",
    "    padre = []\n",
    "    lista = range (1, num + 1)\n",
    "    for x in range (2):\n",
    "        for y in range (1):\n",
    "            aleatorio = random.sample(lista, num)\n",
    "        padre.append(aleatorio)\n",
    "    return padre"
   ]
  },
  {
   "cell_type": "code",
   "execution_count": 95,
   "metadata": {},
   "outputs": [],
   "source": [
    "# CROSSOVER: Creamos a los hijos y los mutamos (50% de probabilidad)\n",
    "\n",
    "def crossover(padre1, padre2):\n",
    "\n",
    "    # SIGUIENTE GENERACION\n",
    "    hijo1 = padre1[0:int(len(padre1)/2)]\n",
    "    hijo2 = padre2[0:int(len(padre2)/2)]\n",
    "    print(\"padres: \", padre1, padre2)\n",
    "    print(\"gen:    \", hijo1, \"     \" , hijo2)\n",
    "    \n",
    "    # GENERAMOS A LOS HIJOS\n",
    "    for x in (padre1):\n",
    "        if x not in (hijo2):\n",
    "            hijo2.append(x)\n",
    "    for x in (padre2):\n",
    "        if x not in (hijo1):\n",
    "            hijo1.append(x)\n",
    "    print(\"hijos:  \", hijo1, hijo2)\n",
    "\n",
    "    # MUTACION DE LOS HIJOS\n",
    "    if random.randint(1,2) == 1:\n",
    "        random.shuffle(hijo1)\n",
    "        random.shuffle(hijo2)\n",
    "        print(\"mutar:  \", hijo1, hijo2)\n",
    "        \n",
    "    return hijo1, hijo2"
   ]
  },
  {
   "cell_type": "code",
   "execution_count": 137,
   "metadata": {},
   "outputs": [],
   "source": [
    "# EVALUAMOS: Comprobamos como de buena es solución de cada cromosotra de la población\n",
    "def fitness(agente):\n",
    "    colq1 = 0\n",
    "    contador = 0\n",
    "\n",
    "    for q1 in (agente):\n",
    "        colq2 = 0\n",
    "        for q2 in (agente):\n",
    "            print(q1, colq1, q2, colq2)\n",
    "            if abs(q1 - q2) == abs(colq2 - colq1):\n",
    "                contador += 1\n",
    "                colq1 += 1\n",
    "            colq2 += 1  \n",
    "    return contador - len(agente)"
   ]
  },
  {
   "cell_type": "code",
   "execution_count": null,
   "metadata": {},
   "outputs": [],
   "source": []
  },
  {
   "cell_type": "code",
   "execution_count": null,
   "metadata": {},
   "outputs": [],
   "source": [
    "# def evaluate():"
   ]
  },
  {
   "cell_type": "code",
   "execution_count": 138,
   "metadata": {},
   "outputs": [
    {
     "name": "stdout",
     "output_type": "stream",
     "text": [
      "padres:  [4, 3, 1, 2] [3, 2, 1, 4]\n",
      "gen:     [4, 3]       [3, 2]\n",
      "hijos:   [4, 3, 2, 1] [3, 2, 4, 1]\n",
      "mutar:   [4, 1, 2, 3] [1, 4, 2, 3]\n",
      "4 0 4 0\n",
      "4 1 1 1\n",
      "4 1 2 2\n",
      "4 1 3 3\n",
      "1 1 4 0\n",
      "1 1 1 1\n",
      "1 2 2 2\n",
      "1 2 3 3\n",
      "2 2 4 0\n",
      "2 3 1 1\n",
      "2 3 2 2\n",
      "2 3 3 3\n",
      "3 3 4 0\n",
      "3 3 1 1\n",
      "3 4 2 2\n",
      "3 4 3 3\n",
      "0\n"
     ]
    }
   ],
   "source": [
    "# MAIN MENU\n",
    "\n",
    "poblacion = 100\n",
    "num_reinas = 4\n",
    "\n",
    "padre = initialization(num_reinas)\n",
    "hijo = crossover(padre[0], padre[1])\n",
    "#poblacion = population(poblacion)\n",
    "#evaluar = fitness(poblacion, num_reinas)\n",
    "evaluar = fitness(hijo[0])\n",
    "print(evaluar)"
   ]
  },
  {
   "cell_type": "code",
   "execution_count": null,
   "metadata": {},
   "outputs": [],
   "source": [
    "# TERMINIO: Cuando se alcance la solución óptima"
   ]
  },
  {
   "cell_type": "code",
   "execution_count": null,
   "metadata": {},
   "outputs": [],
   "source": [
    "\n",
    " \n",
    "def fitness(agente):\n",
    "\n",
    "    size = len(agente)\n",
    "    print(agente)\n",
    "    # Las damas controlan las diagonales\n",
    "    diagonal_izquierda = [0] * (2*size-1)\n",
    "    diagonal_derecha = [0] * (2*size-1)\n",
    "    \n",
    "    # Número de reinas en cada diagonal\n",
    "    for i in range(size): # recorremos las columnas\n",
    "        diagonal_izquierda [i+agente[i]] += 1 # [columna + fila]\n",
    "        diagonal_derecha [size-1-i+agente[i]] += 1 # [size-1-columna+ fila]\n",
    "    \n",
    "    # Número de ataques en cada diagonal\n",
    "    suma = 0\n",
    "    for i in range(2*size-1): # recorremos todas las diagonales\n",
    "        if diagonal_izquierda[i] > 1: # hay ataques\n",
    "            suma += diagonal_izquierda[i] - 1 # n-1 ataques\n",
    "        if diagonal_derecha[i] > 1:\n",
    "            suma += diagonal_derecha[i] - 1\n",
    "    return suma"
   ]
  }
 ],
 "metadata": {
  "kernelspec": {
   "display_name": "Python 3.10.6 64-bit",
   "language": "python",
   "name": "python3"
  },
  "language_info": {
   "codemirror_mode": {
    "name": "ipython",
    "version": 3
   },
   "file_extension": ".py",
   "mimetype": "text/x-python",
   "name": "python",
   "nbconvert_exporter": "python",
   "pygments_lexer": "ipython3",
   "version": "3.10.6"
  },
  "orig_nbformat": 4,
  "vscode": {
   "interpreter": {
    "hash": "916dbcbb3f70747c44a77c7bcd40155683ae19c65e1c03b4aa3499c5328201f1"
   }
  }
 },
 "nbformat": 4,
 "nbformat_minor": 2
}
