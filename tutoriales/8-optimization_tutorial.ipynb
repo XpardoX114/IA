{
 "cells": [
  {
   "cell_type": "code",
   "execution_count": null,
   "metadata": {
    "collapsed": false,
    "jupyter": {
     "outputs_hidden": false
    }
   },
   "outputs": [],
   "source": [
    "%matplotlib inline"
   ]
  },
  {
   "cell_type": "markdown",
   "metadata": {},
   "source": [
    "\n",
    "[Learn the Basics](1-intro.ipynb) ||\n",
    "[Quickstart](2-quickstart_tutorial.ipynb) ||\n",
    "[Tensors](3-tensorqs_tutorial.ipynb) ||\n",
    "[Datasets & DataLoaders](4-data_tutorial.ipynb) ||\n",
    "[Transforms](5-transforms_tutorial.ipynb) ||\n",
    "[Build Model](6-buildmodel_tutorial.ipynb) ||\n",
    "[Autograd](7-autogradqs_tutorial.ipynb) ||\n",
    "**Optimization** ||\n",
    "[Save & Load Model](9-saveloadrun_tutorial.ipynb)\n",
    "\n",
    "# Optimizing Model Parameters\n",
    "\n",
    "Now that we have a model and data it's time to train, validate and test our model by optimizing its parameters on\n",
    "our data. Training a model is an iterative process; in each iteration (called an *epoch*) the model makes a guess about the output, calculates\n",
    "the error in its guess (*loss*), collects the derivatives of the error with respect to its parameters (as we saw in\n",
    "the [previous section](autograd_tutorial.html)), and **optimizes** these parameters using gradient descent. For a more\n",
    "detailed walkthrough of this process, check out this video on [backpropagation from 3Blue1Brown](https://www.youtube.com/watch?v=tIeHLnjs5U8)_.\n",
    "\n",
    "## Prerequisite Code\n",
    "We load the code from the previous sections on [Datasets & DataLoaders](data_tutorial.html)\n",
    "and [Build Model](buildmodel_tutorial.html).\n"
   ]
  },
  {
   "cell_type": "code",
   "execution_count": 1,
   "metadata": {
    "collapsed": false,
    "jupyter": {
     "outputs_hidden": false
    }
   },
   "outputs": [],
   "source": [
    "import torch\n",
    "from torch import nn\n",
    "from torch.utils.data import DataLoader\n",
    "from torchvision import datasets\n",
    "from torchvision.transforms import ToTensor\n",
    "\n",
    "training_data = datasets.MNIST(\n",
    "    root=\"data\",\n",
    "    train=True,\n",
    "    download=True,\n",
    "    transform=ToTensor()\n",
    ")\n",
    "\n",
    "test_data = datasets.MNIST(\n",
    "    root=\"data\",\n",
    "    train=False,\n",
    "    download=True,\n",
    "    transform=ToTensor()\n",
    ")\n",
    "\n",
    "train_dataloader = DataLoader(training_data, batch_size=64)\n",
    "test_dataloader = DataLoader(test_data, batch_size=64)\n",
    "\n",
    "class NeuralNetwork(nn.Module):\n",
    "    def __init__(self):\n",
    "        super(NeuralNetwork, self).__init__()\n",
    "        self.flatten = nn.Flatten()\n",
    "        self.linear_sigmoid_stack = nn.Sequential(\n",
    "            nn.Linear(28*28, 250),\n",
    "            nn.Sigmoid(),\n",
    "            nn.Linear(250, 100),\n",
    "            nn.Sigmoid(),\n",
    "            nn.Linear(100, 10),\n",
    "        )\n",
    "\n",
    "    def forward(self, x):\n",
    "        x = self.flatten(x)\n",
    "        logits = self.linear_sigmoid_stack(x)\n",
    "        return logits\n",
    "\n",
    "model = NeuralNetwork()"
   ]
  },
  {
   "cell_type": "markdown",
   "metadata": {},
   "source": [
    "## Hyperparameters\n",
    "\n",
    "Hyperparameters are adjustable parameters that let you control the model optimization process.\n",
    "Different hyperparameter values can impact model training and convergence rates\n",
    "([read more](https://pytorch.org/tutorials/beginner/hyperparameter_tuning_tutorial.html)_ about hyperparameter tuning)\n",
    "\n",
    "We define the following hyperparameters for training:\n",
    " - **Number of Epochs** - the number times to iterate over the dataset\n",
    " - **Batch Size** - the number of data samples propagated through the network before the parameters are updated\n",
    " - **Learning Rate** - how much to update models parameters at each batch/epoch. Smaller values yield slow learning speed, while large values may result in unpredictable behavior during training.\n",
    "\n",
    "\n"
   ]
  },
  {
   "cell_type": "code",
   "execution_count": 19,
   "metadata": {
    "collapsed": false,
    "jupyter": {
     "outputs_hidden": false
    }
   },
   "outputs": [],
   "source": [
    "learning_rate = 0.1\n",
    "batch_size = 64\n",
    "epochs = 5"
   ]
  },
  {
   "cell_type": "markdown",
   "metadata": {},
   "source": [
    "## Optimization Loop\n",
    "\n",
    "Once we set our hyperparameters, we can then train and optimize our model with an optimization loop. Each\n",
    "iteration of the optimization loop is called an **epoch**.\n",
    "\n",
    "Each epoch consists of two main parts:\n",
    " - **The Train Loop** - iterate over the training dataset and try to converge to optimal parameters.\n",
    " - **The Validation/Test Loop** - iterate over the test dataset to check if model performance is improving.\n",
    "\n",
    "Let's briefly familiarize ourselves with some of the concepts used in the training loop. Jump ahead to\n",
    "see the `full-impl-label` of the optimization loop.\n",
    "\n",
    "### Loss Function\n",
    "\n",
    "When presented with some training data, our untrained network is likely not to give the correct\n",
    "answer. **Loss function** measures the degree of dissimilarity of obtained result to the target value,\n",
    "and it is the loss function that we want to minimize during training. To calculate the loss we make a\n",
    "prediction using the inputs of our given data sample and compare it against the true data label value.\n",
    "\n",
    "Common loss functions include [nn.MSELoss](https://pytorch.org/docs/stable/generated/torch.nn.MSELoss.html#torch.nn.MSELoss) (Mean Square Error) for regression tasks, and\n",
    "[nn.NLLLoss](https://pytorch.org/docs/stable/generated/torch.nn.NLLLoss.html#torch.nn.NLLLoss) (Negative Log Likelihood) for classification.\n",
    "[nn.CrossEntropyLoss](https://pytorch.org/docs/stable/generated/torch.nn.CrossEntropyLoss.html#torch.nn.CrossEntropyLoss) combines ``nn.LogSoftmax`` and ``nn.NLLLoss``.\n",
    "\n",
    "We pass our model's output logits to ``nn.CrossEntropyLoss``, which will normalize the logits and compute the prediction error.\n",
    "\n"
   ]
  },
  {
   "cell_type": "code",
   "execution_count": 10,
   "metadata": {
    "collapsed": false,
    "jupyter": {
     "outputs_hidden": false
    }
   },
   "outputs": [],
   "source": [
    "# Initialize the loss function\n",
    "loss_fn = nn.CrossEntropyLoss()"
   ]
  },
  {
   "cell_type": "markdown",
   "metadata": {},
   "source": [
    "### Optimizer\n",
    "\n",
    "Optimization is the process of adjusting model parameters to reduce model error in each training step. **Optimization algorithms** define how this process is performed (in this example we use Stochastic Gradient Descent).\n",
    "All optimization logic is encapsulated in  the ``optimizer`` object. Here, we use the SGD optimizer; additionally, there are many [different optimizers](https://pytorch.org/docs/stable/optim.html)\n",
    "available in PyTorch such as ADAM and RMSProp, that work better for different kinds of models and data.\n",
    "\n",
    "We initialize the optimizer by registering the model's parameters that need to be trained, and passing in the learning rate hyperparameter.\n",
    "\n"
   ]
  },
  {
   "cell_type": "code",
   "execution_count": 11,
   "metadata": {
    "collapsed": false,
    "jupyter": {
     "outputs_hidden": false
    }
   },
   "outputs": [],
   "source": [
    "optimizer = torch.optim.SGD(model.parameters(), lr=learning_rate)"
   ]
  },
  {
   "cell_type": "markdown",
   "metadata": {},
   "source": [
    "Inside the training loop, optimization happens in three steps:\n",
    " * Call ``optimizer.zero_grad()`` to reset the gradients of model parameters. Gradients by default add up; to prevent double-counting, we explicitly zero them at each iteration.\n",
    " * Backpropagate the prediction loss with a call to ``loss.backward()``. PyTorch deposits the gradients of the loss w.r.t. each parameter.\n",
    " * Once we have our gradients, we call ``optimizer.step()`` to adjust the parameters by the gradients collected in the backward pass.\n",
    "\n"
   ]
  },
  {
   "cell_type": "markdown",
   "metadata": {},
   "source": [
    "\n",
    "## Full Implementation\n",
    "We define ``train_loop`` that loops over our optimization code, and ``test_loop`` that\n",
    "evaluates the model's performance against our test data.\n",
    "\n"
   ]
  },
  {
   "cell_type": "code",
   "execution_count": 12,
   "metadata": {
    "collapsed": false,
    "jupyter": {
     "outputs_hidden": false
    }
   },
   "outputs": [],
   "source": [
    "def train_loop(dataloader, model, loss_fn = nn.CrossEntropyLoss(), optimizer = torch.optim.SGD):\n",
    "    size = len(dataloader.dataset)\n",
    "    for batch, (X, y) in enumerate(dataloader):\n",
    "        # Compute prediction and loss\n",
    "        pred = model(X)\n",
    "        loss = loss_fn(pred, y)\n",
    "\n",
    "        # Backpropagation\n",
    "        optimizer.zero_grad()\n",
    "        loss.backward()\n",
    "        optimizer.step()\n",
    "\n",
    "        if batch % 100 == 0:\n",
    "            loss, current = loss.item(), batch * len(X)\n",
    "            print(f\"loss: {loss:>7f}  [{current:>5d}/{size:>5d}]\")\n",
    "\n",
    "\n",
    "def test_loop(dataloader, model, loss_fn):\n",
    "    size = len(dataloader.dataset)\n",
    "    num_batches = len(dataloader)\n",
    "    test_loss, correct = 0, 0\n",
    "\n",
    "    with torch.no_grad():\n",
    "        for X, y in dataloader:\n",
    "            pred = model(X)\n",
    "            test_loss += loss_fn(pred, y).item()\n",
    "            correct += (pred.argmax(1) == y).type(torch.float).sum().item()\n",
    "\n",
    "    test_loss /= num_batches\n",
    "    correct /= size\n",
    "    print(f\"Test Error: \\n Accuracy: {(100*correct):>0.1f}%, Avg loss: {test_loss:>8f} \\n\")"
   ]
  },
  {
   "cell_type": "markdown",
   "metadata": {},
   "source": [
    "We initialize the loss function and optimizer, and pass it to ``train_loop`` and ``test_loop``.\n",
    "Feel free to increase the number of epochs to track the model's improving performance.\n",
    "\n"
   ]
  },
  {
   "cell_type": "code",
   "execution_count": 18,
   "metadata": {
    "collapsed": false,
    "jupyter": {
     "outputs_hidden": false
    }
   },
   "outputs": [
    {
     "name": "stdout",
     "output_type": "stream",
     "text": [
      "Epoch 1\n",
      "-------------------------------\n",
      "loss: 2.003746  [    0/60000]\n",
      "loss: 1.944667  [ 6400/60000]\n",
      "loss: 2.029998  [12800/60000]\n",
      "loss: 1.941150  [19200/60000]\n",
      "loss: 1.927333  [25600/60000]\n",
      "loss: 1.886331  [32000/60000]\n",
      "loss: 1.762992  [38400/60000]\n",
      "loss: 1.877671  [44800/60000]\n",
      "loss: 1.809219  [51200/60000]\n",
      "loss: 1.730752  [57600/60000]\n",
      "Test Error: \n",
      " Accuracy: 49.3%, Avg loss: 1.719875 \n",
      "\n",
      "Epoch 2\n",
      "-------------------------------\n",
      "loss: 1.720641  [    0/60000]\n",
      "loss: 1.637847  [ 6400/60000]\n",
      "loss: 1.766986  [12800/60000]\n",
      "loss: 1.658382  [19200/60000]\n",
      "loss: 1.602969  [25600/60000]\n",
      "loss: 1.590507  [32000/60000]\n",
      "loss: 1.452492  [38400/60000]\n",
      "loss: 1.612209  [44800/60000]\n",
      "loss: 1.522113  [51200/60000]\n",
      "loss: 1.442851  [57600/60000]\n",
      "Test Error: \n",
      " Accuracy: 56.7%, Avg loss: 1.438101 \n",
      "\n",
      "Epoch 3\n",
      "-------------------------------\n",
      "loss: 1.449879  [    0/60000]\n",
      "loss: 1.374080  [ 6400/60000]\n",
      "loss: 1.505300  [12800/60000]\n",
      "loss: 1.406003  [19200/60000]\n",
      "loss: 1.340060  [25600/60000]\n",
      "loss: 1.340440  [32000/60000]\n",
      "loss: 1.220852  [38400/60000]\n",
      "loss: 1.394691  [44800/60000]\n",
      "loss: 1.297131  [51200/60000]\n",
      "loss: 1.233446  [57600/60000]\n",
      "Test Error: \n",
      " Accuracy: 62.4%, Avg loss: 1.231495 \n",
      "\n",
      "Epoch 4\n",
      "-------------------------------\n",
      "loss: 1.257130  [    0/60000]\n",
      "loss: 1.190591  [ 6400/60000]\n",
      "loss: 1.294876  [12800/60000]\n",
      "loss: 1.211445  [19200/60000]\n",
      "loss: 1.160795  [25600/60000]\n",
      "loss: 1.141363  [32000/60000]\n",
      "loss: 1.051500  [38400/60000]\n",
      "loss: 1.214570  [44800/60000]\n",
      "loss: 1.124088  [51200/60000]\n",
      "loss: 1.074118  [57600/60000]\n",
      "Test Error: \n",
      " Accuracy: 67.6%, Avg loss: 1.067019 \n",
      "\n",
      "Epoch 5\n",
      "-------------------------------\n",
      "loss: 1.116861  [    0/60000]\n",
      "loss: 1.045202  [ 6400/60000]\n",
      "loss: 1.113004  [12800/60000]\n",
      "loss: 1.050128  [19200/60000]\n",
      "loss: 1.021821  [25600/60000]\n",
      "loss: 0.977803  [32000/60000]\n",
      "loss: 0.922617  [38400/60000]\n",
      "loss: 1.062839  [44800/60000]\n",
      "loss: 0.996600  [51200/60000]\n",
      "loss: 0.960679  [57600/60000]\n",
      "Test Error: \n",
      " Accuracy: 71.7%, Avg loss: 0.939048 \n",
      "\n",
      "Epoch 6\n",
      "-------------------------------\n",
      "loss: 1.015959  [    0/60000]\n",
      "loss: 0.933865  [ 6400/60000]\n",
      "loss: 0.971003  [12800/60000]\n",
      "loss: 0.927325  [19200/60000]\n",
      "loss: 0.917308  [25600/60000]\n",
      "loss: 0.856913  [32000/60000]\n",
      "loss: 0.826809  [38400/60000]\n",
      "loss: 0.947170  [44800/60000]\n",
      "loss: 0.908397  [51200/60000]\n",
      "loss: 0.885618  [57600/60000]\n",
      "Test Error: \n",
      " Accuracy: 74.7%, Avg loss: 0.844540 \n",
      "\n",
      "Epoch 7\n",
      "-------------------------------\n",
      "loss: 0.941693  [    0/60000]\n",
      "loss: 0.850011  [ 6400/60000]\n",
      "loss: 0.865792  [12800/60000]\n",
      "loss: 0.835570  [19200/60000]\n",
      "loss: 0.837130  [25600/60000]\n",
      "loss: 0.769652  [32000/60000]\n",
      "loss: 0.749540  [38400/60000]\n",
      "loss: 0.860288  [44800/60000]\n",
      "loss: 0.841826  [51200/60000]\n",
      "loss: 0.830662  [57600/60000]\n",
      "Test Error: \n",
      " Accuracy: 77.2%, Avg loss: 0.771367 \n",
      "\n",
      "Epoch 8\n",
      "-------------------------------\n",
      "loss: 0.880640  [    0/60000]\n",
      "loss: 0.780082  [ 6400/60000]\n",
      "loss: 0.783474  [12800/60000]\n",
      "loss: 0.762450  [19200/60000]\n",
      "loss: 0.771545  [25600/60000]\n",
      "loss: 0.704003  [32000/60000]\n",
      "loss: 0.681332  [38400/60000]\n",
      "loss: 0.792946  [44800/60000]\n",
      "loss: 0.785188  [51200/60000]\n",
      "loss: 0.785447  [57600/60000]\n",
      "Test Error: \n",
      " Accuracy: 79.3%, Avg loss: 0.711066 \n",
      "\n",
      "Epoch 9\n",
      "-------------------------------\n",
      "loss: 0.825500  [    0/60000]\n",
      "loss: 0.717008  [ 6400/60000]\n",
      "loss: 0.715800  [12800/60000]\n",
      "loss: 0.701137  [19200/60000]\n",
      "loss: 0.715887  [25600/60000]\n",
      "loss: 0.652871  [32000/60000]\n",
      "loss: 0.619826  [38400/60000]\n",
      "loss: 0.739471  [44800/60000]\n",
      "loss: 0.734682  [51200/60000]\n",
      "loss: 0.746276  [57600/60000]\n",
      "Test Error: \n",
      " Accuracy: 81.0%, Avg loss: 0.660032 \n",
      "\n",
      "Epoch 10\n",
      "-------------------------------\n",
      "loss: 0.773909  [    0/60000]\n",
      "loss: 0.659853  [ 6400/60000]\n",
      "loss: 0.659513  [12800/60000]\n",
      "loss: 0.649212  [19200/60000]\n",
      "loss: 0.668686  [25600/60000]\n",
      "loss: 0.612587  [32000/60000]\n",
      "loss: 0.565765  [38400/60000]\n",
      "loss: 0.696413  [44800/60000]\n",
      "loss: 0.690350  [51200/60000]\n",
      "loss: 0.711923  [57600/60000]\n",
      "Test Error: \n",
      " Accuracy: 82.3%, Avg loss: 0.616906 \n",
      "\n",
      "Done!\n"
     ]
    }
   ],
   "source": [
    "loss_fn = nn.CrossEntropyLoss()\n",
    "optimizer = torch.optim.SGD(model.parameters(), lr=learning_rate)\n",
    "\n",
    "epochs = 10\n",
    "for t in range(epochs):\n",
    "    print(f\"Epoch {t+1}\\n-------------------------------\")\n",
    "    train_loop(train_dataloader, model, loss_fn, optimizer)\n",
    "    test_loop(test_dataloader, model, loss_fn)\n",
    "print(\"Done!\")"
   ]
  },
  {
   "cell_type": "markdown",
   "metadata": {},
   "source": [
    "## Further Reading\n",
    "- [Loss Functions](https://pytorch.org/docs/stable/nn.html#loss-functions)\n",
    "- [torch.optim](https://pytorch.org/docs/stable/optim.html)\n",
    "- [Warmstart Training a Model](https://pytorch.org/tutorials/recipes/recipes/warmstarting_model_using_parameters_from_a_different_model.html)\n",
    "\n",
    "\n"
   ]
  }
 ],
 "metadata": {
  "kernelspec": {
   "display_name": "Python 3.10.6 64-bit",
   "language": "python",
   "name": "python3"
  },
  "language_info": {
   "codemirror_mode": {
    "name": "ipython",
    "version": 3
   },
   "file_extension": ".py",
   "mimetype": "text/x-python",
   "name": "python",
   "nbconvert_exporter": "python",
   "pygments_lexer": "ipython3",
   "version": "3.10.6"
  },
  "vscode": {
   "interpreter": {
    "hash": "916dbcbb3f70747c44a77c7bcd40155683ae19c65e1c03b4aa3499c5328201f1"
   }
  }
 },
 "nbformat": 4,
 "nbformat_minor": 4
}
