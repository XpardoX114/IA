{
 "cells": [
  {
   "cell_type": "code",
   "execution_count": null,
   "metadata": {
    "collapsed": false,
    "jupyter": {
     "outputs_hidden": false
    }
   },
   "outputs": [],
   "source": [
    "%matplotlib inline"
   ]
  },
  {
   "cell_type": "markdown",
   "metadata": {},
   "source": [
    "\n",
    "[Learn the Basics](1-intro.ipynb) ||\n",
    "[Quickstart](2-quickstart_tutorial.ipynb) ||\n",
    "[Tensors](3-tensorqs_tutorial.ipynb) ||\n",
    "[Datasets & DataLoaders](4-data_tutorial.ipynb) ||\n",
    "**Transforms** ||\n",
    "[Build Model](6-buildmodel_tutorial.ipynb) ||\n",
    "[Autograd](7-autogradqs_tutorial.ipynb) ||\n",
    "[Optimization](8-optimization_tutorial.ipynb) ||\n",
    "[Save & Load Model](9-saveloadrun_tutorial.ipynb)\n",
    "\n",
    "# Transforms\n",
    "\n",
    "Data does not always come in its final processed form that is required for\n",
    "training machine learning algorithms. We use **transforms** to perform some\n",
    "manipulation of the data and make it suitable for training.\n",
    "\n",
    "All TorchVision datasets have two parameters -``transform`` to modify the features and\n",
    "``target_transform`` to modify the labels - that accept callables containing the transformation logic.\n",
    "The [torchvision.transforms](https://pytorch.org/vision/stable/transforms.html) module offers\n",
    "several commonly-used transforms out of the box.\n",
    "\n",
    "The FashionMNIST features are in PIL Image format, and the labels are integers.\n",
    "For training, we need the features as normalized tensors, and the labels as one-hot encoded tensors.\n",
    "To make these transformations, we use ``ToTensor`` and ``Lambda``.\n"
   ]
  },
  {
   "cell_type": "code",
   "execution_count": 1,
   "metadata": {
    "collapsed": false,
    "jupyter": {
     "outputs_hidden": false
    }
   },
   "outputs": [],
   "source": [
    "import torch\n",
    "from torchvision import datasets\n",
    "from torchvision.transforms import ToTensor, Lambda\n",
    "\n",
    "ds = datasets.FashionMNIST(\n",
    "    root=\"data\",\n",
    "    train=True,\n",
    "    download=True,\n",
    "    transform=ToTensor(),\n",
    "    target_transform=Lambda(lambda y: torch.zeros(10, dtype=torch.float).scatter_(0, torch.tensor(y), value=1))\n",
    ")"
   ]
  },
  {
   "cell_type": "markdown",
   "metadata": {},
   "source": [
    "## ToTensor()\n",
    "\n",
    "[ToTensor](https://pytorch.org/vision/stable/transforms.html#torchvision.transforms.ToTensor)\n",
    "converts a PIL image or NumPy ``ndarray`` into a ``FloatTensor``. and scales\n",
    "the image's pixel intensity values in the range [0., 1.]\n",
    "\n",
    "\n"
   ]
  },
  {
   "cell_type": "markdown",
   "metadata": {},
   "source": [
    "## Lambda Transforms\n",
    "\n",
    "Lambda transforms apply any user-defined lambda function. Here, we define a function\n",
    "to turn the integer into a one-hot encoded tensor.\n",
    "It first creates a zero tensor of size 10 (the number of labels in our dataset) and calls\n",
    "[scatter_](https://pytorch.org/docs/stable/generated/torch.Tensor.scatter_.html) which assigns a\n",
    "``value=1`` on the index as given by the label ``y``.\n",
    "\n"
   ]
  },
  {
   "cell_type": "code",
   "execution_count": 4,
   "metadata": {
    "collapsed": false,
    "jupyter": {
     "outputs_hidden": false
    }
   },
   "outputs": [],
   "source": [
    "target_transform = Lambda(lambda y: torch.zeros(\n",
    "    10, dtype=torch.float).scatter_(dim=0, index=torch.tensor(y), value=1))"
   ]
  },
  {
   "cell_type": "markdown",
   "metadata": {},
   "source": [
    "--------------\n",
    "\n",
    "\n"
   ]
  },
  {
   "cell_type": "markdown",
   "metadata": {},
   "source": [
    "### Further Reading\n",
    "- [torchvision.transforms API](https://pytorch.org/vision/stable/transforms.html)\n",
    "\n"
   ]
  }
 ],
 "metadata": {
  "kernelspec": {
   "display_name": "Python 3.10.6 64-bit",
   "language": "python",
   "name": "python3"
  },
  "language_info": {
   "codemirror_mode": {
    "name": "ipython",
    "version": 3
   },
   "file_extension": ".py",
   "mimetype": "text/x-python",
   "name": "python",
   "nbconvert_exporter": "python",
   "pygments_lexer": "ipython3",
   "version": "3.10.6"
  },
  "vscode": {
   "interpreter": {
    "hash": "916dbcbb3f70747c44a77c7bcd40155683ae19c65e1c03b4aa3499c5328201f1"
   }
  }
 },
 "nbformat": 4,
 "nbformat_minor": 4
}
