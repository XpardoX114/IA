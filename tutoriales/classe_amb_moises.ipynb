{
 "cells": [
  {
   "cell_type": "code",
   "execution_count": 1,
   "id": "6b84e669-2787-4736-9056-f67a4e3438e4",
   "metadata": {},
   "outputs": [
    {
     "name": "stdout",
     "output_type": "stream",
     "text": [
      "11\n",
      "la suma de 3 + 5 és 8\n",
      "\n"
     ]
    }
   ],
   "source": [
    "class objectequepuja():\n",
    "    def __init__(self,valor_inicial):\n",
    "        self.parametre = valor_inicial\n",
    "    \n",
    "    def pujar(self, increment):\n",
    "        self.parametre += increment\n",
    "        return self\n",
    "\n",
    "obj = objectequepuja(10)\n",
    "objectequepuja.pujar(obj,1)\n",
    "print(obj.parametre)\n",
    "\n",
    "class ascensor(objectequepuja):\n",
    "    def __init__(self, pis_on_comença = 0, ultim_pis = 10):\n",
    "        super().__init__(pis_on_comença)\n",
    "        self.ultim_pis = ultim_pis\n",
    "    \n",
    "\n",
    "    \n",
    "    def pujar(self, pis_on_vas):\n",
    "        if pis_on_vas <= ultim_pis :\n",
    "            return super.pujar(pis_on_vas)\n",
    "        return self\n",
    "    \n",
    "def ixe(valor):\n",
    "    def suma(v):\n",
    "        return valor + v\n",
    "    return suma\n",
    "\n",
    "suma5 = su(valor):\n",
    "    def suma(v):\n",
    "        return valor + v\n",
    "    return suma\n",
    "\n",
    "suma5 = suixe(valor):\n",
    "    def suma(v):\n",
    "        return valor + v\n",
    "    return suma\n",
    "\n",
    "suma5 = suma_fixe(5)\n",
    "res = suma5(3)\n",
    "print(f\"la suma de 3 + 5 és {res}\")\n",
    "\n",
    "                 \n",
    "def fun(a, b, *args, **kwargs):\n",
    "    print(\",\".join(args))\n",
    "\n",
    "fun(**{'a':1, 'b':2})"
   ]
  },
  {
   "cell_type": "code",
   "execution_count": null,
   "id": "3f8bf2c2-12dd-42ae-ad08-77fb9273bd67",
   "metadata": {},
   "outputs": [],
   "source": []
  }
 ],
 "metadata": {
  "kernelspec": {
   "display_name": "Python 3.10.6 64-bit",
   "language": "python",
   "name": "python3"
  },
  "language_info": {
   "codemirror_mode": {
    "name": "ipython",
    "version": 3
   },
   "file_extension": ".py",
   "mimetype": "text/x-python",
   "name": "python",
   "nbconvert_exporter": "python",
   "pygments_lexer": "ipython3",
   "version": "3.10.6"
  },
  "vscode": {
   "interpreter": {
    "hash": "916dbcbb3f70747c44a77c7bcd40155683ae19c65e1c03b4aa3499c5328201f1"
   }
  }
 },
 "nbformat": 4,
 "nbformat_minor": 5
}
